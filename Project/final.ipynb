{
 "cells": [
  {
   "cell_type": "code",
   "execution_count": 1,
   "metadata": {},
   "outputs": [],
   "source": [
    "from tensorflow.keras.models import Sequential\n",
    "from tensorflow.keras.layers import Conv2D, MaxPooling2D, Flatten, Dense\n",
    "import numpy as np\n",
    "import matplotlib.pyplot as plt\n",
    "from tensorflow.keras.preprocessing.image import ImageDataGenerator"
   ]
  },
  {
   "cell_type": "code",
   "execution_count": 2,
   "metadata": {},
   "outputs": [
    {
     "name": "stdout",
     "output_type": "stream",
     "text": [
      "Found 546 images belonging to 6 classes.\n",
      "Found 63 images belonging to 6 classes.\n"
     ]
    }
   ],
   "source": [
    "# Generate batches of tensor image data with real-time data augmentation.(rotation_range ,  horizontal_flip)\n",
    "datagen = ImageDataGenerator(rescale=1./255, \n",
    "                                                     rotation_range=30,\n",
    "                                                    horizontal_flip=True)\n",
    "\n",
    "training_set=datagen.flow_from_directory(r\"training_set\", \n",
    "                                                target_size=(100,100), \n",
    "                                               batch_size=20,\n",
    "                                               class_mode = 'categorical')\n",
    "test_set=datagen.flow_from_directory(r\"test_set\", \n",
    "                                                target_size=(100,100), \n",
    "                                               batch_size=20,\n",
    "                                               class_mode = 'categorical')\n",
    "# class_mode='categorical' if you have more than 2 classses"
   ]
  },
  {
   "cell_type": "code",
   "execution_count": 3,
   "metadata": {},
   "outputs": [
    {
     "name": "stdout",
     "output_type": "stream",
     "text": [
      "Model: \"sequential\"\n",
      "_________________________________________________________________\n",
      " Layer (type)                Output Shape              Param #   \n",
      "=================================================================\n",
      " conv2d (Conv2D)             (None, 98, 98, 32)        896       \n",
      "                                                                 \n",
      " max_pooling2d (MaxPooling2D  (None, 49, 49, 32)       0         \n",
      " )                                                               \n",
      "                                                                 \n",
      " conv2d_1 (Conv2D)           (None, 47, 47, 64)        18496     \n",
      "                                                                 \n",
      " max_pooling2d_1 (MaxPooling  (None, 23, 23, 64)       0         \n",
      " 2D)                                                             \n",
      "                                                                 \n",
      " conv2d_2 (Conv2D)           (None, 21, 21, 128)       73856     \n",
      "                                                                 \n",
      " max_pooling2d_2 (MaxPooling  (None, 10, 10, 128)      0         \n",
      " 2D)                                                             \n",
      "                                                                 \n",
      " flatten (Flatten)           (None, 12800)             0         \n",
      "                                                                 \n",
      " dense (Dense)               (None, 150)               1920150   \n",
      "                                                                 \n",
      " dense_1 (Dense)             (None, 50)                7550      \n",
      "                                                                 \n",
      " dense_2 (Dense)             (None, 6)                 306       \n",
      "                                                                 \n",
      "=================================================================\n",
      "Total params: 2,021,254\n",
      "Trainable params: 2,021,254\n",
      "Non-trainable params: 0\n",
      "_________________________________________________________________\n"
     ]
    }
   ],
   "source": [
    "model = Sequential()\n",
    "model.add(Conv2D(32,(3,3),activation='relu', input_shape=(100,100,3)))\n",
    "model.add(MaxPooling2D(2,2))\n",
    "#model.add(BatchNormalization(synchronized= True))\n",
    "model.add(Conv2D(64,(3,3),activation='relu'))\n",
    "model.add(MaxPooling2D(2,2))\n",
    "model.add(Conv2D(128,(3,3),activation='relu'))\n",
    "model.add(MaxPooling2D(2,2))\n",
    "model.add(Flatten())\n",
    "model.add(Dense(150, activation='relu'))\n",
    "model.add(Dense(50, activation='relu'))\n",
    "model.add(Dense(6, activation='softmax'))\n",
    "model.summary()"
   ]
  },
  {
   "cell_type": "markdown",
   "metadata": {},
   "source": [
    "#### *previous layer filters * (current layers filters * filter size *) + bias of current layer*"
   ]
  },
  {
   "cell_type": "code",
   "execution_count": 4,
   "metadata": {
    "tags": []
   },
   "outputs": [
    {
     "name": "stdout",
     "output_type": "stream",
     "text": [
      "896\n",
      "18496\n",
      "73856\n",
      "1920150\n",
      "7550\n",
      "306\n",
      "___________\n",
      "2021254\n"
     ]
    }
   ],
   "source": [
    "print(3*(32*3*3)+32)\n",
    "print(32*(64*3*3)+64)\n",
    "print(64*(128*3*3)+128)\n",
    "print(12800*150+150)\n",
    "print(150*50+50)\n",
    "print(50*6+6)\n",
    "print(\"___________\")\n",
    "print(896+18496+73856+1920150+7550+306)"
   ]
  },
  {
   "cell_type": "code",
   "execution_count": 5,
   "metadata": {},
   "outputs": [],
   "source": [
    "model.compile(optimizer='adam', loss='categorical_crossentropy',metrics=['accuracy'])"
   ]
  },
  {
   "cell_type": "code",
   "execution_count": 6,
   "metadata": {},
   "outputs": [],
   "source": [
    "from tensorflow.keras.callbacks import EarlyStopping"
   ]
  },
  {
   "cell_type": "code",
   "execution_count": 7,
   "metadata": {},
   "outputs": [],
   "source": [
    "early_stopping = EarlyStopping(monitor='accuracy', patience=2)"
   ]
  },
  {
   "cell_type": "code",
   "execution_count": 8,
   "metadata": {
    "scrolled": true
   },
   "outputs": [
    {
     "name": "stdout",
     "output_type": "stream",
     "text": [
      "Epoch 1/20\n",
      "28/28 [==============================] - 8s 254ms/step - loss: 1.7911 - accuracy: 0.1832 - val_loss: 1.7707 - val_accuracy: 0.2540\n",
      "Epoch 2/20\n",
      "28/28 [==============================] - 4s 137ms/step - loss: 1.7774 - accuracy: 0.1996 - val_loss: 1.7687 - val_accuracy: 0.2063\n",
      "Epoch 3/20\n",
      "28/28 [==============================] - 4s 134ms/step - loss: 1.6861 - accuracy: 0.3004 - val_loss: 1.5628 - val_accuracy: 0.3651\n",
      "Epoch 4/20\n",
      "28/28 [==============================] - 4s 135ms/step - loss: 1.4330 - accuracy: 0.4487 - val_loss: 1.4247 - val_accuracy: 0.4603\n",
      "Epoch 5/20\n",
      "28/28 [==============================] - 4s 132ms/step - loss: 1.3840 - accuracy: 0.4579 - val_loss: 1.4112 - val_accuracy: 0.5556\n",
      "Epoch 6/20\n",
      "28/28 [==============================] - 4s 134ms/step - loss: 1.3351 - accuracy: 0.4927 - val_loss: 1.3304 - val_accuracy: 0.5397\n",
      "Epoch 7/20\n",
      "28/28 [==============================] - 4s 157ms/step - loss: 1.2990 - accuracy: 0.4725 - val_loss: 1.3793 - val_accuracy: 0.5079\n",
      "Epoch 8/20\n",
      "28/28 [==============================] - 5s 167ms/step - loss: 1.1426 - accuracy: 0.5568 - val_loss: 1.4106 - val_accuracy: 0.5397\n",
      "Epoch 9/20\n",
      "28/28 [==============================] - 5s 163ms/step - loss: 1.1314 - accuracy: 0.5623 - val_loss: 1.1462 - val_accuracy: 0.5873\n",
      "Epoch 10/20\n",
      "28/28 [==============================] - 4s 160ms/step - loss: 1.0922 - accuracy: 0.5806 - val_loss: 1.2002 - val_accuracy: 0.5873\n",
      "Epoch 11/20\n",
      "28/28 [==============================] - 4s 158ms/step - loss: 1.0157 - accuracy: 0.6429 - val_loss: 1.1134 - val_accuracy: 0.5873\n",
      "Epoch 12/20\n",
      "28/28 [==============================] - 5s 161ms/step - loss: 0.9319 - accuracy: 0.6648 - val_loss: 1.0878 - val_accuracy: 0.5556\n",
      "Epoch 13/20\n",
      "28/28 [==============================] - 4s 160ms/step - loss: 0.9216 - accuracy: 0.6520 - val_loss: 1.1686 - val_accuracy: 0.6032\n",
      "Epoch 14/20\n",
      "28/28 [==============================] - 5s 163ms/step - loss: 0.8585 - accuracy: 0.7033 - val_loss: 1.2141 - val_accuracy: 0.6190\n",
      "Epoch 15/20\n",
      "28/28 [==============================] - 5s 162ms/step - loss: 0.7582 - accuracy: 0.7234 - val_loss: 1.2166 - val_accuracy: 0.5873\n",
      "Epoch 16/20\n",
      "28/28 [==============================] - 5s 161ms/step - loss: 0.7929 - accuracy: 0.6941 - val_loss: 1.2292 - val_accuracy: 0.6508\n",
      "Epoch 17/20\n",
      "28/28 [==============================] - 5s 162ms/step - loss: 0.6748 - accuracy: 0.7582 - val_loss: 0.9919 - val_accuracy: 0.6825\n",
      "Epoch 18/20\n",
      "28/28 [==============================] - 4s 158ms/step - loss: 0.6535 - accuracy: 0.7674 - val_loss: 1.1270 - val_accuracy: 0.6825\n",
      "Epoch 19/20\n",
      "28/28 [==============================] - 5s 161ms/step - loss: 0.6767 - accuracy: 0.7601 - val_loss: 1.0259 - val_accuracy: 0.6667\n",
      "Epoch 20/20\n",
      "28/28 [==============================] - 4s 159ms/step - loss: 0.6233 - accuracy: 0.7674 - val_loss: 1.2069 - val_accuracy: 0.6508\n"
     ]
    },
    {
     "data": {
      "text/plain": [
       "<keras.callbacks.History at 0x1fcd315aa50>"
      ]
     },
     "execution_count": 8,
     "metadata": {},
     "output_type": "execute_result"
    }
   ],
   "source": [
    "model.fit(training_set, epochs=20, validation_data=test_set,callbacks=[early_stopping])"
   ]
  },
  {
   "cell_type": "code",
   "execution_count": 9,
   "metadata": {
    "tags": []
   },
   "outputs": [],
   "source": [
    "from tensorflow.keras.preprocessing import image"
   ]
  },
  {
   "cell_type": "code",
   "execution_count": 10,
   "metadata": {},
   "outputs": [],
   "source": [
    "def GuessPlayer(yhat):\n",
    "    if (np.argmax(yhat)) == 0:\n",
    "        return \"M. S. DHONI\"\n",
    "    elif(np.argmax(yhat)) == 1:\n",
    "        return \"SACHIN TENDULKAR\"     \n",
    "    elif(np.argmax(yhat)) == 2:\n",
    "        return \"SURYAKUMAR YADAV\"  \n",
    "    elif(np.argmax(yhat)) == 3:\n",
    "        return \"SMRITI MANDHANA\"\n",
    "    elif(np.argmax(yhat)) == 4:\n",
    "        return \"VIRAT KOHLI\"\n",
    "    elif(np.argmax(yhat)) == 5:\n",
    "        return \"YUZVENDRA CHAHAL\""
   ]
  },
  {
   "cell_type": "code",
   "execution_count": 11,
   "metadata": {},
   "outputs": [
    {
     "data": {
      "text/plain": [
       "{'Dhoni': 0, 'Sachin': 1, 'Sky': 2, 'Smriti': 3, 'Virat': 4, 'Yuzi': 5}"
      ]
     },
     "execution_count": 11,
     "metadata": {},
     "output_type": "execute_result"
    }
   ],
   "source": [
    "training_set.class_indices"
   ]
  },
  {
   "cell_type": "code",
   "execution_count": 12,
   "metadata": {
    "tags": []
   },
   "outputs": [],
   "source": [
    "model.save('FinalModel_123.h5')"
   ]
  },
  {
   "cell_type": "code",
   "execution_count": 13,
   "metadata": {},
   "outputs": [
    {
     "data": {
      "text/plain": [
       "keras.preprocessing.image.ImageDataGenerator"
      ]
     },
     "execution_count": 13,
     "metadata": {},
     "output_type": "execute_result"
    }
   ],
   "source": [
    "type(datagen)"
   ]
  },
  {
   "cell_type": "code",
   "execution_count": null,
   "metadata": {},
   "outputs": [],
   "source": []
  }
 ],
 "metadata": {
  "kernelspec": {
   "display_name": "Python 3 (ipykernel)",
   "language": "python",
   "name": "python3"
  },
  "language_info": {
   "codemirror_mode": {
    "name": "ipython",
    "version": 3
   },
   "file_extension": ".py",
   "mimetype": "text/x-python",
   "name": "python",
   "nbconvert_exporter": "python",
   "pygments_lexer": "ipython3",
   "version": "3.11.3"
  }
 },
 "nbformat": 4,
 "nbformat_minor": 4
}
